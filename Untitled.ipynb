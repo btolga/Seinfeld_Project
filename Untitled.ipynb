{
 "cells": [
  {
   "cell_type": "markdown",
   "metadata": {
    "deletable": true,
    "editable": true
   },
   "source": [
    "Basic Descriptive Analysis of Seinfeld Episodes"
   ]
  },
  {
   "cell_type": "code",
   "execution_count": 36,
   "metadata": {
    "collapsed": false,
    "deletable": true,
    "editable": true
   },
   "outputs": [],
   "source": [
    "import nltk, re, pprint\n",
    "from nltk import word_tokenize\n",
    "from urllib import request\n",
    "from bs4 import BeautifulSoup\n",
    "import time"
   ]
  },
  {
   "cell_type": "code",
   "execution_count": 94,
   "metadata": {
    "collapsed": false
   },
   "outputs": [],
   "source": [
    "episodes = list(range(1,81))+['82and83']+list(range(84,99))+list(range(102,176))"
   ]
  },
  {
   "cell_type": "code",
   "execution_count": 71,
   "metadata": {
    "collapsed": false
   },
   "outputs": [
    {
     "name": "stdout",
     "output_type": "stream",
     "text": [
      "/Users/tolga/Seinfeld_Project/data\n"
     ]
    }
   ],
   "source": [
    "cd '/Users/tolga/Seinfeld_Project/data'"
   ]
  },
  {
   "cell_type": "code",
   "execution_count": null,
   "metadata": {
    "collapsed": false,
    "deletable": true,
    "editable": true
   },
   "outputs": [],
   "source": [
    "for i in episodes:\n",
    "    ep_nr1 = '{}'.format(i)\n",
    "    ep_nr = ep_nr1.zfill(2)\n",
    "    url = \"http://www.seinology.com/scripts/script-{}.shtml\".format(ep_nr)\n",
    "    response = request.urlopen(url)\n",
    "    raw = response.read().decode('utf8')\n",
    "    soup = BeautifulSoup(raw)\n",
    "\n",
    "    raw2 = soup.getText()\n",
    "    script_start = raw2.find(\"==================================================================\")\n",
    "    script = raw2[script_start+len('=================================================================='):]\n",
    "\n",
    "    info_start = raw2.find(\"Episode {}\".format(ep_nr1[0]))\n",
    "\n",
    "    info = raw2[info_start:script_start]\n",
    "\n",
    "    with open('Episode_{}.txt'.format(ep_nr), 'w+') as file:  \n",
    "        file.write(script)\n",
    "        file.close\n",
    "    \n",
    "    with open('Episode_{}_Info.txt'.format(ep_nr), 'w+') as file:  \n",
    "        file.write(info)\n",
    "        file.close\n",
    "        \n",
    "    time.sleep(5)\n"
   ]
  },
  {
   "cell_type": "code",
   "execution_count": 93,
   "metadata": {
    "collapsed": false
   },
   "outputs": [
    {
     "name": "stderr",
     "output_type": "stream",
     "text": [
      "/usr/local/lib/python3.5/site-packages/bs4/__init__.py:181: UserWarning: No parser was explicitly specified, so I'm using the best available HTML parser for this system (\"html5lib\"). This usually isn't a problem, but if you run this code on another system, or in a different virtual environment, it may use a different parser and behave differently.\n",
      "\n",
      "The code that caused this warning is on line 170 of the file /usr/local/Cellar/python3/3.5.1/Frameworks/Python.framework/Versions/3.5/lib/python3.5/runpy.py. To get rid of this warning, change code that looks like this:\n",
      "\n",
      " BeautifulSoup([your markup])\n",
      "\n",
      "to this:\n",
      "\n",
      " BeautifulSoup([your markup], \"html5lib\")\n",
      "\n",
      "  markup_type=markup_type))\n"
     ]
    }
   ],
   "source": [
    "url = \"http://www.seinology.com/scripts/script-{}.shtml\".format('179and180')\n",
    "response = request.urlopen(url)\n",
    "raw = response.read().decode('utf8')\n",
    "soup = BeautifulSoup(raw)\n",
    "raw2 = soup.getText()\n",
    "script_start = raw2.find(\"[Opening Monologue]\")\n",
    "script_end = raw2.find(\"The End\")\n",
    "info1_start = raw2.find('Episode 179 - The Finale')\n",
    "info2_start = raw2.find('Episode 180 - The Finale (2)')\n",
    "script = raw2[script_start:script_end]\n",
    "info1 = raw2[info1_start:info2_start]\n",
    "info2 = raw2[info2_start:script_start]\n",
    "\n",
    "\n",
    "with open('Episode_179and180.txt', 'w+') as file:\n",
    "    file.write(script)\n",
    "    file.close\n",
    "    \n",
    "with open('Episode_179_Info.txt', 'w+') as file:  \n",
    "    file.write(info1)\n",
    "    file.close\n",
    "\n",
    "with open('Episode_180_Info.txt', 'w+') as file:  \n",
    "    file.write(info2)\n",
    "    file.close"
   ]
  }
 ],
 "metadata": {
  "kernelspec": {
   "display_name": "Python 3",
   "language": "python",
   "name": "python3"
  },
  "language_info": {
   "codemirror_mode": {
    "name": "ipython",
    "version": 3
   },
   "file_extension": ".py",
   "mimetype": "text/x-python",
   "name": "python",
   "nbconvert_exporter": "python",
   "pygments_lexer": "ipython3",
   "version": "3.5.1"
  }
 },
 "nbformat": 4,
 "nbformat_minor": 2
}
